{
 "cells": [
  {
   "cell_type": "code",
   "execution_count": 1,
   "id": "13df821c-7011-4713-bc96-8d4f60bb3ed2",
   "metadata": {},
   "outputs": [
    {
     "name": "stdout",
     "output_type": "stream",
     "text": [
      "True\n"
     ]
    }
   ],
   "source": [
    "speed = 0\n",
    "acceleration = 24\n",
    "braking_force = 19\n",
    "is_moving = braking_force < acceleration and (speed > 0 or acceleration > 0)\n",
    "print(is_moving)"
   ]
  },
  {
   "cell_type": "code",
   "execution_count": 2,
   "id": "5302d28f-8fcb-4d1d-9d0b-59e318460422",
   "metadata": {},
   "outputs": [
    {
     "name": "stdout",
     "output_type": "stream",
     "text": [
      "True\n"
     ]
    }
   ],
   "source": [
    "speed = 0\n",
    "acceleration = 24\n",
    "braking_force = 19\n",
    "is_moving = braking_force < acceleration and speed > 0 or acceleration > 0\n",
    "print(is_moving)"
   ]
  },
  {
   "cell_type": "code",
   "execution_count": 8,
   "id": "a69607d7-ace6-4ff2-ba04-2521f8920469",
   "metadata": {},
   "outputs": [
    {
     "name": "stdout",
     "output_type": "stream",
     "text": [
      "[2, 8, 4]\n",
      "[1, 3, 5]\n",
      "[0, 1, 2]\n"
     ]
    },
    {
     "data": {
      "text/plain": [
       "[1, 3, 5, 2, 8, 4]"
      ]
     },
     "execution_count": 8,
     "metadata": {},
     "output_type": "execute_result"
    }
   ],
   "source": [
    "def sort_array(source_array):\n",
    "    dup_array = list(source_array)\n",
    "    odd_nums = []\n",
    "    index_list = []\n",
    "    index = 0\n",
    "    \n",
    "    for i in source_array:\n",
    "        if i % 2 != 0:\n",
    "            odd_nums.append(i)\n",
    "            dup_array.remove(i)\n",
    "            index_list.append(index)\n",
    "            index += 1\n",
    "    print(dup_array)\n",
    "    odd_nums.sort()\n",
    "    print(odd_nums)\n",
    "    print(index_list)\n",
    "    index = 0\n",
    "    \n",
    "    while index < len(odd_nums):\n",
    "        dup_array.insert(\n",
    "            index_list[index], odd_nums[index])\n",
    "        index += 1\n",
    "\n",
    "    return dup_array\n",
    "\n",
    "sort_array([5, 3, 2, 8, 1, 4])"
   ]
  },
  {
   "cell_type": "code",
   "execution_count": null,
   "id": "e926ea93-9ab3-408c-9122-ec60b59bb913",
   "metadata": {},
   "outputs": [],
   "source": []
  }
 ],
 "metadata": {
  "kernelspec": {
   "display_name": "Python 3 (ipykernel)",
   "language": "python",
   "name": "python3"
  },
  "language_info": {
   "codemirror_mode": {
    "name": "ipython",
    "version": 3
   },
   "file_extension": ".py",
   "mimetype": "text/x-python",
   "name": "python",
   "nbconvert_exporter": "python",
   "pygments_lexer": "ipython3",
   "version": "3.12.6"
  }
 },
 "nbformat": 4,
 "nbformat_minor": 5
}
