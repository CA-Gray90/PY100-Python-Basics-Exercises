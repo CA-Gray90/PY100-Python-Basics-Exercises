{
 "cells": [
  {
   "cell_type": "code",
   "execution_count": 13,
   "id": "83cfe492-fe9a-4d96-bf22-825018a97f6d",
   "metadata": {},
   "outputs": [
    {
     "name": "stdout",
     "output_type": "stream",
     "text": [
      "both are 1\n"
     ]
    }
   ],
   "source": [
    "from random import randrange\n",
    "\n",
    "var_1 = randrange(1, 3)\n",
    "var_2 = randrange(1, 4)\n",
    "\n",
    "match (var_1, var_2):\n",
    "    case (1, 1):\n",
    "        print('both are 1')\n",
    "    case (1, 2):\n",
    "        print('one and two')\n",
    "    case (1, 3):\n",
    "        print('one and three')\n",
    "    case (2, 1):\n",
    "        print('two and one')\n",
    "    case (2, 2):\n",
    "        print('both are two')\n",
    "    case (2, 3):\n",
    "        print('two and three')\n"
   ]
  },
  {
   "cell_type": "code",
   "execution_count": 18,
   "id": "d07575fa-919a-4732-8f84-9094d7c496ba",
   "metadata": {},
   "outputs": [
    {
     "ename": "UnboundLocalError",
     "evalue": "cannot access local variable 'x' where it is not associated with a value",
     "output_type": "error",
     "traceback": [
      "\u001b[0;31m---------------------------------------------------------------------------\u001b[0m",
      "\u001b[0;31mUnboundLocalError\u001b[0m                         Traceback (most recent call last)",
      "Cell \u001b[0;32mIn[18], line 8\u001b[0m\n\u001b[1;32m      5\u001b[0m     x \u001b[38;5;241m=\u001b[39m x \u001b[38;5;241m+\u001b[39m \u001b[38;5;241m2\u001b[39m\n\u001b[1;32m      6\u001b[0m     \u001b[38;5;28mprint\u001b[39m(x)\n\u001b[0;32m----> 8\u001b[0m \u001b[43mmy_func\u001b[49m\u001b[43m(\u001b[49m\u001b[43m)\u001b[49m\n",
      "Cell \u001b[0;32mIn[18], line 5\u001b[0m, in \u001b[0;36mmy_func\u001b[0;34m()\u001b[0m\n\u001b[1;32m      3\u001b[0m \u001b[38;5;28;01mdef\u001b[39;00m \u001b[38;5;21mmy_func\u001b[39m():\n\u001b[0;32m----> 5\u001b[0m     x \u001b[38;5;241m=\u001b[39m \u001b[43mx\u001b[49m \u001b[38;5;241m+\u001b[39m \u001b[38;5;241m2\u001b[39m\n\u001b[1;32m      6\u001b[0m     \u001b[38;5;28mprint\u001b[39m(x)\n",
      "\u001b[0;31mUnboundLocalError\u001b[0m: cannot access local variable 'x' where it is not associated with a value"
     ]
    }
   ],
   "source": [
    "x = 10\n",
    "\n",
    "def my_func():\n",
    "\n",
    "    x = x + 2\n",
    "    print(x)\n",
    "\n",
    "my_func()"
   ]
  },
  {
   "cell_type": "code",
   "execution_count": 24,
   "id": "6dfd22ad-422f-49de-9d01-dcb93d7e57aa",
   "metadata": {},
   "outputs": [
    {
     "name": "stdout",
     "output_type": "stream",
     "text": [
      "4479291584\n",
      "[1, 2, 3, 4]\n",
      "4479291584\n"
     ]
    }
   ],
   "source": [
    "a = [1, 2]\n",
    "print(id(a))\n",
    "\n",
    "def my_function(b):\n",
    "    b += [3, 4]\n",
    "\n",
    "my_function(a)\n",
    "print(a)\n",
    "print(id(a))"
   ]
  },
  {
   "cell_type": "code",
   "execution_count": null,
   "id": "344370c5-18ba-43f9-a148-351c2c782a19",
   "metadata": {},
   "outputs": [],
   "source": []
  }
 ],
 "metadata": {
  "kernelspec": {
   "display_name": "Python 3 (ipykernel)",
   "language": "python",
   "name": "python3"
  },
  "language_info": {
   "codemirror_mode": {
    "name": "ipython",
    "version": 3
   },
   "file_extension": ".py",
   "mimetype": "text/x-python",
   "name": "python",
   "nbconvert_exporter": "python",
   "pygments_lexer": "ipython3",
   "version": "3.12.6"
  }
 },
 "nbformat": 4,
 "nbformat_minor": 5
}
